{
 "cells": [
  {
   "cell_type": "code",
   "execution_count": null,
   "metadata": {
    "collapsed": false
   },
   "outputs": [],
   "source": [
    "from window import *\n",
    "\n",
    "if __name__ == \"__main__\":\n",
    "    dim = (32,32,32)\n",
    "    \n",
    "    idx = np.indices(dim).astype(np.float32)  \n",
    "    X = np.zeros(dim+(4,), dtype = np.float32)\n",
    "    X[:,:,:,0] = idx[0,:,:,:]\n",
    "    X[:,:,:,1] = idx[1,:,:,:]\n",
    "    X[:,:,:,2] = idx[2,:,:,:]\n",
    "\n",
    "    X1 = np.array(X)\n",
    "    ar = 8**2\n",
    "    az = 8**2\n",
    "    h = np.exp(-((X[:,:,:,0]-dim[0]/2)**2 + (X[:,:,:,1]-dim[1]/2)**2)/ar - (X[:,:,:,2]-dim[2]/4)**2/az)*np.pi\n",
    "\n",
    "    X[:,:,:,0] = (X1[:,:,:,0]-dim[0]/2)*np.cos(h) - (X1[:,:,:,1]-dim[1]/2)*np.sin(h)# + dim[0]/2\n",
    "    X[:,:,:,1] = (X1[:,:,:,0]-dim[0]/2)*np.sin(h) + (X1[:,:,:,1]-dim[1]/2)*np.cos(h)# + dim[1]/2\n",
    "    X[:,:,:,2] -= dim[2]/2\n",
    "    #X*= 0.015\n",
    "    X[:,:,:,3] = 1.\n",
    "    \n",
    "    B = np.zeros(dim+(4,), dtype = np.float32)\n",
    "    B[:,:,:,2] = np.ones(dim, dtype = np.float32)\n",
    "    \n",
    "    #X*=0.01\n",
    "    \n",
    "    #X = (np.random.random(dim+(4,)).astype(np.float32) - 0.5)*0.3\n",
    "    window(X, B, video_dir = '/video')\n"
   ]
  },
  {
   "cell_type": "code",
   "execution_count": 2,
   "metadata": {
    "collapsed": false
   },
   "outputs": [
    {
     "name": "stderr",
     "output_type": "stream",
     "text": [
      "Exception in thread Thread-5:\n",
      "Traceback (most recent call last):\n",
      "  File \"C:\\Anaconda\\lib\\threading.py\", line 810, in __bootstrap_inner\n",
      "    self.run()\n",
      "  File \"rotB.py\", line 88, in run\n",
      "    self.force(self.ki[0], self.ki[i+1]) ## ki\n",
      "  File \"rotB.py\", line 67, in force\n",
      "    self.program.Jacobian(self.queue, self.shape, block_shape, X, self.J)\n",
      "  File \"C:\\Anaconda\\lib\\site-packages\\pyopencl\\__init__.py\", line 512, in kernel_call\n",
      "    global_offset, wait_for, g_times_l=g_times_l)\n",
      "MemoryError: clEnqueueNDRangeKernel failed: mem object allocation failure\n",
      "\n"
     ]
    },
    {
     "data": {
      "text/plain": [
       "<CL(Thread-5, stopped 5984)>"
      ]
     },
     "execution_count": 2,
     "metadata": {},
     "output_type": "execute_result"
    }
   ],
   "source": [
    "cle"
   ]
  },
  {
   "cell_type": "code",
   "execution_count": null,
   "metadata": {
    "collapsed": true
   },
   "outputs": [],
   "source": [
    "    if (d == 0) {\n",
    "        ng = nx;\n",
    "        ii = ix;\n",
    "        bg = ny*nz;\n",
    "        ll = lx+1;\n",
    "        bl = nl*nl;\n",
    "        ldx = lz+nl*ly+nl*nl*ll;\n",
    "    }\n",
    "    \n",
    "    if (d == 1) {\n",
    "        ng = ny;\n",
    "        ii = iy;\n",
    "        bg = nz;\n",
    "        ll = ly+1;\n",
    "        bl = nl;\n",
    "        ldx = lz+nl*ll+(nl+2)*nl*lx;\n",
    "    }\n",
    "    \n",
    "    if (d == 2) {\n",
    "        ng = nz;\n",
    "        ii = iz;\n",
    "        bg = 1;\n",
    "        ll = lz+1;\n",
    "        bl = 1;\n",
    "        ldx = ll+(nl+2)*ly+(nl+2)*nl*lx;\n",
    "    }\n",
    "    \n",
    "    __local float3 Xl[(BLOCK_SIZE+2)*BLOCK_SIZE*BLOCK_SIZE];"
   ]
  }
 ],
 "metadata": {
  "kernelspec": {
   "display_name": "Python 2",
   "language": "python",
   "name": "python2"
  },
  "language_info": {
   "codemirror_mode": {
    "name": "ipython",
    "version": 2
   },
   "file_extension": ".py",
   "mimetype": "text/x-python",
   "name": "python",
   "nbconvert_exporter": "python",
   "pygments_lexer": "ipython2",
   "version": "2.7.10"
  }
 },
 "nbformat": 4,
 "nbformat_minor": 0
}
