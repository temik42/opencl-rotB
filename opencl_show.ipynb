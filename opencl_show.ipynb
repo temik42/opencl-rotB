{
 "cells": [
  {
   "cell_type": "code",
   "execution_count": 1,
   "metadata": {
    "collapsed": false
   },
   "outputs": [],
   "source": [
    "from window import *\n",
    "import rotB\n",
    "\n",
    "if __name__ == \"__main__\":\n",
    "    dim = (32,32,64)\n",
    "    \n",
    "    idx = np.indices(dim).astype(np.float32)  \n",
    "    X = np.zeros(dim+(4,), dtype = np.float32)\n",
    "    X[:,:,:,0] = idx[0,:,:,:]\n",
    "    X[:,:,:,1] = idx[1,:,:,:]\n",
    "    X[:,:,:,2] = idx[2,:,:,:]\n",
    "\n",
    "    X1 = np.array(X)\n",
    "    ar = 6**2\n",
    "    az = 16**2\n",
    "    h = np.exp(-((X[:,:,:,0]-dim[0]/2)**2 + (X[:,:,:,1]-dim[1]/2)**2)/ar - (X[:,:,:,2]-dim[2]/8)**2/az)*np.pi*2\n",
    "\n",
    "    X[:,:,:,2] -= dim[2]/2\n",
    "    X[:,:,:,0] = ((X1[:,:,:,0]-dim[0]/2)*np.cos(h) - (X1[:,:,:,1]-dim[1]/2)*np.sin(h))#*(1.+np.cos(X[:,:,:,2]*np.pi/dim[2]))*0.5\n",
    "    X[:,:,:,1] = ((X1[:,:,:,0]-dim[0]/2)*np.sin(h) + (X1[:,:,:,1]-dim[1]/2)*np.cos(h))#*(1.+np.cos(X[:,:,:,2]*np.pi/dim[2]))*0.5\n",
    "                  #+ 16*np.cos(X[:,:,:,2]*np.pi/dim[2]))\n",
    "    \n",
    "    #X*= 0.015\n",
    "    X[:,:,:,3] = 1.\n",
    "    \n",
    "    B = np.zeros(dim+(4,), dtype = np.float32)\n",
    "    B[:,:,:,2] = np.ones(dim, dtype = np.float32)\n",
    "    \n",
    "    #X*=0.01\n",
    "    \n",
    "    #X = (np.random.random(dim+(4,)).astype(np.float32) - 0.5)*0.3\n",
    "    cle = rotB.CL(X, B)\n",
    "    cle.start()\n",
    "    \n",
    "    #window(cle, video_dir = '/video')\n"
   ]
  },
  {
   "cell_type": "code",
   "execution_count": 2,
   "metadata": {
    "collapsed": false
   },
   "outputs": [],
   "source": [
    "import matplotlib.pyplot as plt"
   ]
  },
  {
   "cell_type": "code",
   "execution_count": 15,
   "metadata": {
    "collapsed": false
   },
   "outputs": [
    {
     "data": {
      "text/plain": [
       "<matplotlib.image.AxesImage at 0xe9b77f0>"
      ]
     },
     "execution_count": 15,
     "metadata": {},
     "output_type": "execute_result"
    },
    {
     "data": {
      "image/png": "[encoded data removed]",
      "text/plain": [
       "<matplotlib.figure.Figure at 0xe94e130>"
      ]
     },
     "metadata": {},
     "output_type": "display_data"
    }
   ],
   "source": [
    "%matplotlib inline\n",
    "plt.figure(figsize=(8,8))\n",
    "plt.imshow(cle._X[:,:,1,2], interpolation = 'nearest')"
   ]
  },
  {
   "cell_type": "code",
   "execution_count": null,
   "metadata": {
    "collapsed": true
   },
   "outputs": [],
   "source": []
  },
  {
   "cell_type": "code",
   "execution_count": null,
   "metadata": {
    "collapsed": true
   },
   "outputs": [],
   "source": []
  }
 ],
 "metadata": {
  "kernelspec": {
   "display_name": "Python 2",
   "language": "python",
   "name": "python2"
  },
  "language_info": {
   "codemirror_mode": {
    "name": "ipython",
    "version": 2
   },
   "file_extension": ".py",
   "mimetype": "text/x-python",
   "name": "python",
   "nbconvert_exporter": "python",
   "pygments_lexer": "ipython2",
   "version": "2.7.10"
  }
 },
 "nbformat": 4,
 "nbformat_minor": 0
}
